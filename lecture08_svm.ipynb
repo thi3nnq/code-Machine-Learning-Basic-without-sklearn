{
 "cells": [
  {
   "cell_type": "code",
   "execution_count": 7,
   "metadata": {
    "id": "5Rgz4XEHXxw6"
   },
   "outputs": [
    {
     "output_type": "stream",
     "name": "stdout",
     "text": [
      "Defaulting to user installation because normal site-packages is not writeable\n",
      "Requirement already satisfied: cvxopt in /home/thien/.local/lib/python3.8/site-packages (1.2.5)\n",
      "\u001b[33mWARNING: You are using pip version 20.3.1; however, version 20.3.3 is available.\n",
      "You should consider upgrading via the '/usr/bin/python3 -m pip install --upgrade pip' command.\u001b[0m\n"
     ]
    }
   ],
   "source": [
    "### NOTE: this notebook is from https://machinelearningcoban.com/2017/04/09/smv/\n",
    "!pip install cvxopt"
   ]
  },
  {
   "cell_type": "code",
   "execution_count": 8,
   "metadata": {
    "id": "cd2KgrSPP8Rh"
   },
   "outputs": [],
   "source": [
    "import numpy as np \n",
    "import matplotlib.pyplot as plt\n",
    "\n",
    "# Compute distance between each pair of the two collections of inputs\n",
    "from scipy.spatial.distance import cdist\n",
    "np.random.seed(1)"
   ]
  },
  {
   "cell_type": "code",
   "execution_count": 41,
   "metadata": {
    "id": "bBE6eI2sXvl-"
   },
   "outputs": [
    {
     "output_type": "execute_result",
     "data": {
      "text/plain": [
       "(1, 40)"
      ]
     },
     "metadata": {},
     "execution_count": 41
    }
   ],
   "source": [
    "means = [[1, 1], [5, 4]]\n",
    "cov = [[.5, .3], [.3, .5]]\n",
    "N = 20\n",
    "X0 = np.random.multivariate_normal(means[0], cov, N)\n",
    "X1 = np.random.multivariate_normal(means[1], cov, N)\n",
    "X = np.vstack((X0, X1)).T\n",
    "y = np.hstack((np.ones((1, N)), -1*np.ones((1, N))))\n",
    "y.shape"
   ]
  },
  {
   "cell_type": "markdown",
   "metadata": {
    "id": "8xIebRWVICUe"
   },
   "source": [
    "### SVM Primal problem:\n",
    "$$\\begin{array}{c}\n",
    "\\min _{w, b} \\frac{1}{2}|| w||^{2} \\\\\n",
    "y_{i}\\left(w^\\top x_{i}+b\\right) \\geq 1\\; \\forall i\n",
    "\\end{array}$$\n",
    "\n",
    "\n",
    "### Lagrangian:\n",
    "$$\\mathcal{L}(w, b, \\alpha)=\\frac{1}{2} \\Vert w \\Vert ^{2}-\\sum_{i} \\alpha_{i}\\left[y_{i}\\left(w^\\top x_{i}+b\\right)-1\\right]$$\n",
    "where $\\alpha_i \\geq 0$ is the Lagrangian multiplier.\n",
    "\n",
    "\n",
    "### Lagrange dual function:\n",
    "$$g(\\alpha) = \\sum_i \\alpha_i - \\frac{1}{2}\\sum_{ij} \\alpha_i \\alpha_j y_i y_j x_i^\\top x_j$$\n",
    "with $\\sum_i \\alpha_i y_i = 0 \\text{,}\\space \\alpha_i \\geq 0$.\n",
    "\n",
    "\n",
    "Let:\n",
    "\n",
    "$\\mathbf{V}=\\left[y_{1} x_{1}, y_{2} x_{2}, \\ldots, y_{N} x_{N}\\right]$,\n",
    "\n",
    "$\\mathbf{1}=[1,1, \\ldots, 1]^\\top$,\n",
    "\n",
    "$\\mathbf{K} = \\mathbf{V}^\\top \\mathbf{V}$,\n",
    "\n",
    "$$\\Rightarrow g(\\alpha)=-\\frac{1}{2} \\alpha^\\top \\mathbf{K} \\alpha+\\mathbf{1}^\\top \\alpha$$\n",
    "\n"
   ]
  },
  {
   "cell_type": "code",
   "execution_count": 38,
   "metadata": {
    "id": "z-5n5wt5jS8V"
   },
   "outputs": [],
   "source": [
    "#solving the problem\n",
    "from cvxopt import matrix, solvers\n",
    "# build V\n",
    "# your code is here \n",
    "V = (X.T * y.T).T\n",
    "##########\n",
    "\n",
    "# your code is here\n",
    "K = matrix(np.dot(V.T, V))\n",
    "##########\n",
    "\n",
    "p = matrix(-np.ones((2*N, 1))) # all-one vector \n",
    "# build A, b, G, h \n",
    "G = matrix(-np.eye(2*N)) # for all lambda_n >= 0\n",
    "h = matrix(np.zeros((2*N, 1)))\n",
    "A = matrix(y) # the equality constrain is actually y^T lambda = 0\n",
    "b = matrix(np.zeros((1, 1))) \n",
    "\n",
    "\n",
    "solvers.options['show_progress'] = False\n",
    "sol = solvers.qp(K, p, G, h, A, b)\n"
   ]
  },
  {
   "cell_type": "markdown",
   "metadata": {
    "id": "uZ9VAdCHR1j1"
   },
   "source": [
    "Support vectors are positive solutions ($\\alpha > 0$) of the Lagrange dual function.\n",
    "\n",
    "$w$ and $b$ can be calculated from support vector set $\\mathcal{S}$:\n",
    "\n",
    "$$w=\\sum_{m \\in \\mathcal{S}} \\alpha_{m} y_{m} x_{m}$$\n",
    "\n",
    "$$b=\\frac{1}{N_{\\mathcal{S}}} \\sum_{n \\in \\mathcal{S}}\\left(y_{n}-w^\\top x_{n}\\right)$$\n",
    "where  $N_{\\mathcal{S}}$ is the number of support vectors.\n"
   ]
  },
  {
   "cell_type": "code",
   "execution_count": 40,
   "metadata": {
    "id": "cqm2RjQBXJ1I"
   },
   "outputs": [
    {
     "output_type": "execute_result",
     "data": {
      "text/plain": [
       "3"
      ]
     },
     "metadata": {},
     "execution_count": 40
    }
   ],
   "source": [
    "# Finding support vector\n",
    "epsilon = 1e-5 # just a small number, greater than 1e-9\n",
    "S = np.where(alpha > epsilon)[0]\n",
    "alphaS = alpha[S]\n"
   ]
  },
  {
   "cell_type": "code",
   "execution_count": 34,
   "metadata": {
    "id": "1nF0jQ2IZQTH"
   },
   "outputs": [
    {
     "output_type": "execute_result",
     "data": {
      "text/plain": [
       "array([[1.68893009],\n",
       "       [1.29331879],\n",
       "       [2.98224896]])"
      ]
     },
     "metadata": {},
     "execution_count": 34
    }
   ],
   "source": [
    "alphaS"
   ]
  },
  {
   "cell_type": "code",
   "execution_count": 48,
   "metadata": {
    "id": "Hyvv9f_hzHl6"
   },
   "outputs": [
    {
     "output_type": "stream",
     "name": "stdout",
     "text": [
      "w =  [[-2.41354674  0.37321563]]\nb =  6.344385589137653\n"
     ]
    }
   ],
   "source": [
    "VS = V[:, S]\n",
    "XS = X[:, S]\n",
    "yS = y[:, S]\n",
    "# calculate w and b\n",
    "### your code is here\n",
    "w = np.dot(VS, alpha[S])\n",
    "b = 1/S.shape[0] * np.sum((yS - np.dot(w.T, XS)))\n",
    "###########\n",
    "\n",
    "\n",
    "print('w = ', w.T)\n",
    "print('b = ', b)"
   ]
  },
  {
   "cell_type": "code",
   "execution_count": 49,
   "metadata": {
    "id": "CQJozTzFzLah"
   },
   "outputs": [
    {
     "output_type": "display_data",
     "data": {
      "text/plain": "<Figure size 720x720 with 1 Axes>",
      "image/svg+xml": "<?xml version=\"1.0\" encoding=\"utf-8\" standalone=\"no\"?>\n<!DOCTYPE svg PUBLIC \"-//W3C//DTD SVG 1.1//EN\"\n  \"http://www.w3.org/Graphics/SVG/1.1/DTD/svg11.dtd\">\n<!-- Created with matplotlib (https://matplotlib.org/) -->\n<svg height=\"581.35625pt\" version=\"1.1\" viewBox=\"0 0 595.75625 581.35625\" width=\"595.75625pt\" xmlns=\"http://www.w3.org/2000/svg\" xmlns:xlink=\"http://www.w3.org/1999/xlink\">\n <metadata>\n  <rdf:RDF xmlns:cc=\"http://creativecommons.org/ns#\" xmlns:dc=\"http://purl.org/dc/elements/1.1/\" xmlns:rdf=\"http://www.w3.org/1999/02/22-rdf-syntax-ns#\">\n   <cc:Work>\n    <dc:type rdf:resource=\"http://purl.org/dc/dcmitype/StillImage\"/>\n    <dc:date>2020-12-29T09:31:52.190944</dc:date>\n    <dc:format>image/svg+xml</dc:format>\n    <dc:creator>\n     <cc:Agent>\n      <dc:title>Matplotlib v3.3.3, https://matplotlib.org/</dc:title>\n     </cc:Agent>\n    </dc:creator>\n   </cc:Work>\n  </rdf:RDF>\n </metadata>\n <defs>\n  <style type=\"text/css\">*{stroke-linecap:butt;stroke-linejoin:round;}</style>\n </defs>\n <g id=\"figure_1\">\n  <g id=\"patch_1\">\n   <path d=\"M -0 581.35625 \nL 595.75625 581.35625 \nL 595.75625 0 \nL -0 0 \nz\n\" style=\"fill:none;\"/>\n  </g>\n  <g id=\"axes_1\">\n   <g id=\"patch_2\">\n    <path d=\"M 30.55625 550.8 \nL 588.55625 550.8 \nL 588.55625 7.2 \nL 30.55625 7.2 \nz\n\" style=\"fill:#ffffff;\"/>\n   </g>\n   <g id=\"patch_3\">\n    <path clip-path=\"url(#p1a279a46c3)\" d=\"M 170.336298 394.863226 \nC 172.666831 394.863226 174.902226 393.937296 176.550161 392.28936 \nC 178.198097 390.641424 179.124028 388.406029 179.124028 386.075496 \nC 179.124028 383.744963 178.198097 381.509568 176.550161 379.861632 \nC 174.902226 378.213697 172.666831 377.287766 170.336298 377.287766 \nC 168.005764 377.287766 165.77037 378.213697 164.122434 379.861632 \nC 162.474498 381.509568 161.548568 383.744963 161.548568 386.075496 \nC 161.548568 388.406029 162.474498 390.641424 164.122434 392.28936 \nC 165.77037 393.937296 168.005764 394.863226 170.336298 394.863226 \nz\n\" style=\"fill:none;stroke:#000000;stroke-linejoin:miter;\"/>\n   </g>\n   <g id=\"patch_4\">\n    <path clip-path=\"url(#p1a279a46c3)\" d=\"M 165.864406 423.257713 \nC 168.194939 423.257713 170.430333 422.331782 172.078269 420.683846 \nC 173.726205 419.03591 174.652136 416.800516 174.652136 414.469983 \nC 174.652136 412.139449 173.726205 409.904055 172.078269 408.256119 \nC 170.430333 406.608183 168.194939 405.682252 165.864406 405.682252 \nC 163.533872 405.682252 161.298478 406.608183 159.650542 408.256119 \nC 158.002606 409.904055 157.076675 412.139449 157.076675 414.469983 \nC 157.076675 416.800516 158.002606 419.03591 159.650542 420.683846 \nC 161.298478 422.331782 163.533872 423.257713 165.864406 423.257713 \nz\n\" style=\"fill:none;stroke:#000000;stroke-linejoin:miter;\"/>\n   </g>\n   <g id=\"patch_5\">\n    <path clip-path=\"url(#p1a279a46c3)\" d=\"M 498.180468 104.802234 \nC 500.511001 104.802234 502.746395 103.876303 504.394331 102.228367 \nC 506.042267 100.580432 506.968198 98.345037 506.968198 96.014504 \nC 506.968198 93.683971 506.042267 91.448576 504.394331 89.80064 \nC 502.746395 88.152704 500.511001 87.226774 498.180468 87.226774 \nC 495.849934 87.226774 493.61454 88.152704 491.966604 89.80064 \nC 490.318668 91.448576 489.392737 93.683971 489.392737 96.014504 \nC 489.392737 98.345037 490.318668 100.580432 491.966604 102.228367 \nC 493.61454 103.876303 495.849934 104.802234 498.180468 104.802234 \nz\n\" style=\"fill:none;stroke:#000000;stroke-linejoin:miter;\"/>\n   </g>\n   <g id=\"matplotlib.axis_1\">\n    <g id=\"text_1\">\n     <!-- $x_1$ -->\n     <g transform=\"translate(298.85625 569.996875)scale(0.2 -0.2)\">\n      <defs>\n       <path d=\"M 60.015625 54.6875 \nL 34.90625 27.875 \nL 50.296875 0 \nL 39.984375 0 \nL 28.421875 21.6875 \nL 8.296875 0 \nL -2.59375 0 \nL 24.3125 28.8125 \nL 10.015625 54.6875 \nL 20.3125 54.6875 \nL 30.8125 34.90625 \nL 49.125 54.6875 \nz\n\" id=\"DejaVuSans-Oblique-120\"/>\n       <path d=\"M 12.40625 8.296875 \nL 28.515625 8.296875 \nL 28.515625 63.921875 \nL 10.984375 60.40625 \nL 10.984375 69.390625 \nL 28.421875 72.90625 \nL 38.28125 72.90625 \nL 38.28125 8.296875 \nL 54.390625 8.296875 \nL 54.390625 0 \nL 12.40625 0 \nz\n\" id=\"DejaVuSans-49\"/>\n      </defs>\n      <use transform=\"translate(0 0.3125)\" xlink:href=\"#DejaVuSans-Oblique-120\"/>\n      <use transform=\"translate(59.179688 -16.09375)scale(0.7)\" xlink:href=\"#DejaVuSans-49\"/>\n     </g>\n    </g>\n   </g>\n   <g id=\"matplotlib.axis_2\">\n    <g id=\"text_2\">\n     <!-- $x_2$ -->\n     <g transform=\"translate(22.396875 289.7)rotate(-90)scale(0.2 -0.2)\">\n      <defs>\n       <path d=\"M 19.1875 8.296875 \nL 53.609375 8.296875 \nL 53.609375 0 \nL 7.328125 0 \nL 7.328125 8.296875 \nQ 12.9375 14.109375 22.625 23.890625 \nQ 32.328125 33.6875 34.8125 36.53125 \nQ 39.546875 41.84375 41.421875 45.53125 \nQ 43.3125 49.21875 43.3125 52.78125 \nQ 43.3125 58.59375 39.234375 62.25 \nQ 35.15625 65.921875 28.609375 65.921875 \nQ 23.96875 65.921875 18.8125 64.3125 \nQ 13.671875 62.703125 7.8125 59.421875 \nL 7.8125 69.390625 \nQ 13.765625 71.78125 18.9375 73 \nQ 24.125 74.21875 28.421875 74.21875 \nQ 39.75 74.21875 46.484375 68.546875 \nQ 53.21875 62.890625 53.21875 53.421875 \nQ 53.21875 48.921875 51.53125 44.890625 \nQ 49.859375 40.875 45.40625 35.40625 \nQ 44.1875 33.984375 37.640625 27.21875 \nQ 31.109375 20.453125 19.1875 8.296875 \nz\n\" id=\"DejaVuSans-50\"/>\n      </defs>\n      <use transform=\"translate(0 0.3125)\" xlink:href=\"#DejaVuSans-Oblique-120\"/>\n      <use transform=\"translate(59.179688 -16.09375)scale(0.7)\" xlink:href=\"#DejaVuSans-50\"/>\n     </g>\n    </g>\n   </g>\n   <g id=\"line2d_1\">\n    <path clip-path=\"url(#p1a279a46c3)\" d=\"M 246.42463 582.35625 \nL 336.631158 -1 \nL 336.631158 -1 \n\" style=\"fill:none;stroke:#000000;stroke-linecap:square;stroke-width:3;\"/>\n   </g>\n   <g id=\"line2d_2\">\n    <path clip-path=\"url(#p1a279a46c3)\" d=\"M 210.014603 582.35625 \nL 300.221131 -1 \nL 300.221131 -1 \n\" style=\"fill:none;stroke:#000000;stroke-linecap:square;stroke-width:1.5;\"/>\n   </g>\n   <g id=\"line2d_3\">\n    <path clip-path=\"url(#p1a279a46c3)\" d=\"M 282.834658 582.35625 \nL 373.041186 -1 \nL 373.041186 -1 \n\" style=\"fill:none;stroke:#000000;stroke-linecap:square;stroke-width:1.5;\"/>\n   </g>\n   <g id=\"line2d_4\">\n    <defs>\n     <path d=\"M -4 4 \nL 4 4 \nL 4 -4 \nL -4 -4 \nz\n\" id=\"mf5070e2c24\" style=\"stroke:#0000ff;stroke-linejoin:miter;stroke-opacity:0.8;\"/>\n    </defs>\n    <g clip-path=\"url(#p1a279a46c3)\">\n     <use style=\"fill:#0000ff;fill-opacity:0.8;stroke:#0000ff;stroke-linejoin:miter;stroke-opacity:0.8;\" x=\"141.668661\" xlink:href=\"#mf5070e2c24\" y=\"453.118733\"/>\n     <use style=\"fill:#0000ff;fill-opacity:0.8;stroke:#0000ff;stroke-linejoin:miter;stroke-opacity:0.8;\" x=\"119.201657\" xlink:href=\"#mf5070e2c24\" y=\"477.187933\"/>\n     <use style=\"fill:#0000ff;fill-opacity:0.8;stroke:#0000ff;stroke-linejoin:miter;stroke-opacity:0.8;\" x=\"50.866988\" xlink:href=\"#mf5070e2c24\" y=\"446.469561\"/>\n     <use style=\"fill:#0000ff;fill-opacity:0.8;stroke:#0000ff;stroke-linejoin:miter;stroke-opacity:0.8;\" x=\"118.041427\" xlink:href=\"#mf5070e2c24\" y=\"366.147233\"/>\n     <use style=\"fill:#0000ff;fill-opacity:0.8;stroke:#0000ff;stroke-linejoin:miter;stroke-opacity:0.8;\" x=\"93.0756\" xlink:href=\"#mf5070e2c24\" y=\"393.191594\"/>\n     <use style=\"fill:#0000ff;fill-opacity:0.8;stroke:#0000ff;stroke-linejoin:miter;stroke-opacity:0.8;\" x=\"56.414446\" xlink:href=\"#mf5070e2c24\" y=\"431.68459\"/>\n     <use style=\"fill:#0000ff;fill-opacity:0.8;stroke:#0000ff;stroke-linejoin:miter;stroke-opacity:0.8;\" x=\"170.336298\" xlink:href=\"#mf5070e2c24\" y=\"386.075496\"/>\n     <use style=\"fill:#0000ff;fill-opacity:0.8;stroke:#0000ff;stroke-linejoin:miter;stroke-opacity:0.8;\" x=\"48.462258\" xlink:href=\"#mf5070e2c24\" y=\"536.36364\"/>\n     <use style=\"fill:#0000ff;fill-opacity:0.8;stroke:#0000ff;stroke-linejoin:miter;stroke-opacity:0.8;\" x=\"279.163366\" xlink:href=\"#mf5070e2c24\" y=\"379.279146\"/>\n     <use style=\"fill:#0000ff;fill-opacity:0.8;stroke:#0000ff;stroke-linejoin:miter;stroke-opacity:0.8;\" x=\"310.010915\" xlink:href=\"#mf5070e2c24\" y=\"357.967461\"/>\n     <use style=\"fill:#0000ff;fill-opacity:0.8;stroke:#0000ff;stroke-linejoin:miter;stroke-opacity:0.8;\" x=\"99.304677\" xlink:href=\"#mf5070e2c24\" y=\"380.113014\"/>\n     <use style=\"fill:#0000ff;fill-opacity:0.8;stroke:#0000ff;stroke-linejoin:miter;stroke-opacity:0.8;\" x=\"127.543577\" xlink:href=\"#mf5070e2c24\" y=\"404.951609\"/>\n     <use style=\"fill:#0000ff;fill-opacity:0.8;stroke:#0000ff;stroke-linejoin:miter;stroke-opacity:0.8;\" x=\"117.831315\" xlink:href=\"#mf5070e2c24\" y=\"432.169894\"/>\n     <use style=\"fill:#0000ff;fill-opacity:0.8;stroke:#0000ff;stroke-linejoin:miter;stroke-opacity:0.8;\" x=\"126.1443\" xlink:href=\"#mf5070e2c24\" y=\"434.012726\"/>\n     <use style=\"fill:#0000ff;fill-opacity:0.8;stroke:#0000ff;stroke-linejoin:miter;stroke-opacity:0.8;\" x=\"119.004589\" xlink:href=\"#mf5070e2c24\" y=\"496.831093\"/>\n     <use style=\"fill:#0000ff;fill-opacity:0.8;stroke:#0000ff;stroke-linejoin:miter;stroke-opacity:0.8;\" x=\"30.247782\" xlink:href=\"#mf5070e2c24\" y=\"469.09536\"/>\n     <use style=\"fill:#0000ff;fill-opacity:0.8;stroke:#0000ff;stroke-linejoin:miter;stroke-opacity:0.8;\" x=\"100.415441\" xlink:href=\"#mf5070e2c24\" y=\"405.298357\"/>\n     <use style=\"fill:#0000ff;fill-opacity:0.8;stroke:#0000ff;stroke-linejoin:miter;stroke-opacity:0.8;\" x=\"165.864406\" xlink:href=\"#mf5070e2c24\" y=\"414.469983\"/>\n     <use style=\"fill:#0000ff;fill-opacity:0.8;stroke:#0000ff;stroke-linejoin:miter;stroke-opacity:0.8;\" x=\"108.556913\" xlink:href=\"#mf5070e2c24\" y=\"452.491629\"/>\n     <use style=\"fill:#0000ff;fill-opacity:0.8;stroke:#0000ff;stroke-linejoin:miter;stroke-opacity:0.8;\" x=\"155.582725\" xlink:href=\"#mf5070e2c24\" y=\"432.267264\"/>\n    </g>\n   </g>\n   <g id=\"line2d_5\">\n    <defs>\n     <path d=\"M 0 4 \nC 1.060812 4 2.078319 3.578535 2.828427 2.828427 \nC 3.578535 2.078319 4 1.060812 4 0 \nC 4 -1.060812 3.578535 -2.078319 2.828427 -2.828427 \nC 2.078319 -3.578535 1.060812 -4 0 -4 \nC -1.060812 -4 -2.078319 -3.578535 -2.828427 -2.828427 \nC -3.578535 -2.078319 -4 -1.060812 -4 0 \nC -4 1.060812 -3.578535 2.078319 -2.828427 2.828427 \nC -2.078319 3.578535 -1.060812 4 0 4 \nz\n\" id=\"mbea7f79b8d\" style=\"stroke:#ff0000;stroke-opacity:0.8;\"/>\n    </defs>\n    <g clip-path=\"url(#p1a279a46c3)\">\n     <use style=\"fill:#ff0000;fill-opacity:0.8;stroke:#ff0000;stroke-opacity:0.8;\" x=\"468.350856\" xlink:href=\"#mbea7f79b8d\" y=\"117.805215\"/>\n     <use style=\"fill:#ff0000;fill-opacity:0.8;stroke:#ff0000;stroke-opacity:0.8;\" x=\"561.676353\" xlink:href=\"#mbea7f79b8d\" y=\"57.086192\"/>\n     <use style=\"fill:#ff0000;fill-opacity:0.8;stroke:#ff0000;stroke-opacity:0.8;\" x=\"456.380354\" xlink:href=\"#mbea7f79b8d\" y=\"141.522522\"/>\n     <use style=\"fill:#ff0000;fill-opacity:0.8;stroke:#ff0000;stroke-opacity:0.8;\" x=\"512.162447\" xlink:href=\"#mbea7f79b8d\" y=\"280.840254\"/>\n     <use style=\"fill:#ff0000;fill-opacity:0.8;stroke:#ff0000;stroke-opacity:0.8;\" x=\"421.959823\" xlink:href=\"#mbea7f79b8d\" y=\"198.371154\"/>\n     <use style=\"fill:#ff0000;fill-opacity:0.8;stroke:#ff0000;stroke-opacity:0.8;\" x=\"475.273919\" xlink:href=\"#mbea7f79b8d\" y=\"189.12791\"/>\n     <use style=\"fill:#ff0000;fill-opacity:0.8;stroke:#ff0000;stroke-opacity:0.8;\" x=\"427.518626\" xlink:href=\"#mbea7f79b8d\" y=\"233.790566\"/>\n     <use style=\"fill:#ff0000;fill-opacity:0.8;stroke:#ff0000;stroke-opacity:0.8;\" x=\"345.810332\" xlink:href=\"#mbea7f79b8d\" y=\"261.175771\"/>\n     <use style=\"fill:#ff0000;fill-opacity:0.8;stroke:#ff0000;stroke-opacity:0.8;\" x=\"366.47708\" xlink:href=\"#mbea7f79b8d\" y=\"315.535358\"/>\n     <use style=\"fill:#ff0000;fill-opacity:0.8;stroke:#ff0000;stroke-opacity:0.8;\" x=\"541.193159\" xlink:href=\"#mbea7f79b8d\" y=\"57.433565\"/>\n     <use style=\"fill:#ff0000;fill-opacity:0.8;stroke:#ff0000;stroke-opacity:0.8;\" x=\"415.090301\" xlink:href=\"#mbea7f79b8d\" y=\"221.298086\"/>\n     <use style=\"fill:#ff0000;fill-opacity:0.8;stroke:#ff0000;stroke-opacity:0.8;\" x=\"561.435399\" xlink:href=\"#mbea7f79b8d\" y=\"101.811585\"/>\n     <use style=\"fill:#ff0000;fill-opacity:0.8;stroke:#ff0000;stroke-opacity:0.8;\" x=\"434.236353\" xlink:href=\"#mbea7f79b8d\" y=\"214.353537\"/>\n     <use style=\"fill:#ff0000;fill-opacity:0.8;stroke:#ff0000;stroke-opacity:0.8;\" x=\"474.787085\" xlink:href=\"#mbea7f79b8d\" y=\"173.318307\"/>\n     <use style=\"fill:#ff0000;fill-opacity:0.8;stroke:#ff0000;stroke-opacity:0.8;\" x=\"530.182726\" xlink:href=\"#mbea7f79b8d\" y=\"137.795385\"/>\n     <use style=\"fill:#ff0000;fill-opacity:0.8;stroke:#ff0000;stroke-opacity:0.8;\" x=\"493.620454\" xlink:href=\"#mbea7f79b8d\" y=\"46.472657\"/>\n     <use style=\"fill:#ff0000;fill-opacity:0.8;stroke:#ff0000;stroke-opacity:0.8;\" x=\"476.613012\" xlink:href=\"#mbea7f79b8d\" y=\"135.195786\"/>\n     <use style=\"fill:#ff0000;fill-opacity:0.8;stroke:#ff0000;stroke-opacity:0.8;\" x=\"498.180468\" xlink:href=\"#mbea7f79b8d\" y=\"96.014504\"/>\n     <use style=\"fill:#ff0000;fill-opacity:0.8;stroke:#ff0000;stroke-opacity:0.8;\" x=\"541.989186\" xlink:href=\"#mbea7f79b8d\" y=\"45.198067\"/>\n     <use style=\"fill:#ff0000;fill-opacity:0.8;stroke:#ff0000;stroke-opacity:0.8;\" x=\"406.778511\" xlink:href=\"#mbea7f79b8d\" y=\"114.270903\"/>\n    </g>\n   </g>\n   <g id=\"patch_6\">\n    <path d=\"M 30.55625 550.8 \nL 30.55625 7.2 \n\" style=\"fill:none;stroke:#000000;stroke-linecap:square;stroke-linejoin:miter;stroke-width:0.8;\"/>\n   </g>\n   <g id=\"patch_7\">\n    <path d=\"M 588.55625 550.8 \nL 588.55625 7.2 \n\" style=\"fill:none;stroke:#000000;stroke-linecap:square;stroke-linejoin:miter;stroke-width:0.8;\"/>\n   </g>\n   <g id=\"patch_8\">\n    <path d=\"M 30.55625 550.8 \nL 588.55625 550.8 \n\" style=\"fill:none;stroke:#000000;stroke-linecap:square;stroke-linejoin:miter;stroke-width:0.8;\"/>\n   </g>\n   <g id=\"patch_9\">\n    <path d=\"M 30.55625 7.2 \nL 588.55625 7.2 \n\" style=\"fill:none;stroke:#000000;stroke-linecap:square;stroke-linejoin:miter;stroke-width:0.8;\"/>\n   </g>\n  </g>\n </g>\n <defs>\n  <clipPath id=\"p1a279a46c3\">\n   <rect height=\"543.6\" width=\"558\" x=\"30.55625\" y=\"7.2\"/>\n  </clipPath>\n </defs>\n</svg>\n",
      "image/png": "[encoded data removed]"
     },
     "metadata": {}
    }
   ],
   "source": [
    "def plot(w, b, X0, X1, X, S):\n",
    "  fig, ax = plt.subplots(figsize=(10,10))\n",
    "  x1 = np.arange(-10, 10, 0.1)\n",
    "  y1 = -w[0, 0]/w[1, 0]*x1 - b/w[1, 0]\n",
    "  y2 = -w[0, 0]/w[1, 0]*x1 - (b-1)/w[1, 0]\n",
    "  y3 = -w[0, 0]/w[1, 0]*x1 - (b+1)/w[1, 0]\n",
    "  plt.plot(x1, y1, 'k', linewidth = 3)\n",
    "  plt.plot(x1, y2, 'k')\n",
    "  plt.plot(x1, y3, 'k')\n",
    "\n",
    "\n",
    "  # y4 = 10*x1\n",
    "  # plt.plot(x1, y1, 'k')\n",
    "  # plt.fill_between(x1, y1, color='red', alpha=0.1)\n",
    "  # plt.fill_between(x1, y1, y4, color = 'blue', alpha = .1)\n",
    "\n",
    "\n",
    "  plt.plot(X0[:, 0], X0[:, 1], 'bs', markersize = 8, alpha = .8)\n",
    "  plt.plot(X1[:, 0], X1[:, 1], 'ro', markersize = 8, alpha = .8)\n",
    "\n",
    "  plt.axis('equal')\n",
    "  plt.ylim(np.min(X[1, :])*1.05, np.max(X[1, :])*1.05)\n",
    "  plt.xlim(np.min(X[0, :])*1.05, np.max(X[0, :])*1.05)\n",
    "\n",
    "  # hide tikcs \n",
    "  cur_axes = plt.gca()\n",
    "  cur_axes.axes.get_xaxis().set_ticks([])\n",
    "  cur_axes.axes.get_yaxis().set_ticks([])\n",
    "\n",
    "  # add circles around support vectors \n",
    "  for m in S:\n",
    "      circle = plt.Circle((X[0, m], X[1, m] ), 0.1, color='k', fill = False)\n",
    "      ax.add_artist(circle)\n",
    "\n",
    "\n",
    "  plt.xlabel('$x_1$', fontsize = 20)\n",
    "  plt.ylabel('$x_2$', fontsize = 20)\n",
    "  plt.show()\n",
    "plot(w, b, X0, X1, X, S)"
   ]
  },
  {
   "cell_type": "code",
   "execution_count": null,
   "metadata": {},
   "outputs": [],
   "source": []
  }
 ],
 "metadata": {
  "colab": {
   "collapsed_sections": [],
   "name": "lecture08_svm.ipynb",
   "provenance": []
  },
  "kernelspec": {
   "display_name": "Python 3",
   "language": "python",
   "name": "python3"
  },
  "language_info": {
   "codemirror_mode": {
    "name": "ipython",
    "version": 3
   },
   "file_extension": ".py",
   "mimetype": "text/x-python",
   "name": "python",
   "nbconvert_exporter": "python",
   "pygments_lexer": "ipython3",
   "version": "3.8.5-final"
  }
 },
 "nbformat": 4,
 "nbformat_minor": 1
}