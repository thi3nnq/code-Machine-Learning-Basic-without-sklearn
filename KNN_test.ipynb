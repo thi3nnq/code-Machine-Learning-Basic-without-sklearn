{
 "cells": [
  {
   "cell_type": "code",
   "execution_count": 65,
   "metadata": {},
   "outputs": [],
   "source": [
    "from sklearn.datasets import load_iris\n",
    "import numpy as np\n",
    "import matplotlib.pyplot as plt\n",
    "from sklearn.model_selection import train_test_split\n",
    "from sklearn.metrics import accuracy_score"
   ]
  },
  {
   "cell_type": "code",
   "execution_count": 66,
   "metadata": {},
   "outputs": [],
   "source": [
    "data = load_iris()"
   ]
  },
  {
   "cell_type": "code",
   "execution_count": 67,
   "metadata": {},
   "outputs": [
    {
     "data": {
      "text/plain": [
       "['DESCR',\n",
       " 'data',\n",
       " 'feature_names',\n",
       " 'filename',\n",
       " 'frame',\n",
       " 'target',\n",
       " 'target_names']"
      ]
     },
     "execution_count": 67,
     "metadata": {},
     "output_type": "execute_result"
    }
   ],
   "source": [
    "dir(data)"
   ]
  },
  {
   "cell_type": "code",
   "execution_count": 68,
   "metadata": {},
   "outputs": [],
   "source": [
    "X, Y = data.data, data.target"
   ]
  },
  {
   "cell_type": "code",
   "execution_count": 69,
   "metadata": {},
   "outputs": [],
   "source": [
    "X_train, X_test, Y_train, Y_test = train_test_split(X, Y, test_size = 0.1, random_state=40) # split our data\n"
   ]
  },
  {
   "cell_type": "code",
   "execution_count": 70,
   "metadata": {},
   "outputs": [],
   "source": [
    "def norm_euclidean(x1, x2):\n",
    "    return np.linalg.norm(x1 - x2) "
   ]
  },
  {
   "cell_type": "code",
   "execution_count": 71,
   "metadata": {},
   "outputs": [],
   "source": [
    "def KNN(K, X_train, Y_train, X_test):\n",
    "    '''\n",
    "    Evaluate the classfication for X_test with K-nearest neighbor\n",
    "    given training set(X_train, Y_train)\n",
    "    K: hyperparameter of KNN algorithm\n",
    "    '''\n",
    "    lst_predict = []\n",
    "    class_num = np.unique(Y_train)\n",
    "    for x1 in X_test:\n",
    "        lst = []\n",
    "        for i, x2 in enumerate(X_train):\n",
    "            lst.append({\"distance\":norm_euclidean(x1, x2), \"class\": Y_train[i]})\n",
    "        lst.sort(key = lambda x: x[\"distance\"])   # sort list(by distance)\n",
    "        for i in range(K):\n",
    "            lst_weight = [0 for i in range(class_num.size)]  # init list weight (inverse of distance)\n",
    "            if lst[i][\"distance\"] == 0:\n",
    "                lst_predict.append(lst[i][\"class\"])\n",
    "                break\n",
    "            else:\n",
    "                lst_weight[lst[i][\"class\"]] += 1 / lst[i][\"distance\"]\n",
    "        lst_predict.append(lst_weight.index(max(lst_weight)))\n",
    "    return np.array(lst_predict)           "
   ]
  },
  {
   "cell_type": "code",
   "execution_count": 77,
   "metadata": {},
   "outputs": [],
   "source": [
    "Y_predict = KNN(10, X_train, Y_train, X_test)"
   ]
  },
  {
   "cell_type": "code",
   "execution_count": 78,
   "metadata": {},
   "outputs": [
    {
     "data": {
      "text/plain": [
       "0.9333333333333333"
      ]
     },
     "execution_count": 78,
     "metadata": {},
     "output_type": "execute_result"
    }
   ],
   "source": [
    "accuracy_score(Y_predict, Y_test)"
   ]
  },
  {
   "cell_type": "code",
   "execution_count": null,
   "metadata": {},
   "outputs": [],
   "source": []
  }
 ],
 "metadata": {
  "kernelspec": {
   "display_name": "Python 3",
   "language": "python",
   "name": "python3"
  },
  "language_info": {
   "codemirror_mode": {
    "name": "ipython",
    "version": 3
   },
   "file_extension": ".py",
   "mimetype": "text/x-python",
   "name": "python",
   "nbconvert_exporter": "python",
   "pygments_lexer": "ipython3",
   "version": "3.8.5"
  }
 },
 "nbformat": 4,
 "nbformat_minor": 4
}
