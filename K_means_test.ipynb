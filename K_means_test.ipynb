{
 "cells": [
  {
   "cell_type": "code",
   "execution_count": null,
   "metadata": {},
   "outputs": [],
   "source": [
    "from sklearn.datasets import load_iris\n",
    "import numpy as np\n",
    "import random\n",
    "from sklearn.metrics import accuracy_score\n",
    "import matplotlib.pyplot as plt"
   ]
  },
  {
   "cell_type": "code",
   "execution_count": null,
   "metadata": {},
   "outputs": [],
   "source": [
    "data = load_iris()\n",
    "dir(data)"
   ]
  },
  {
   "cell_type": "code",
   "execution_count": null,
   "metadata": {},
   "outputs": [],
   "source": [
    "X = data.data\n",
    "Y = data.target"
   ]
  },
  {
   "cell_type": "code",
   "execution_count": null,
   "metadata": {},
   "outputs": [],
   "source": [
    "K = len(np.unique(Y))"
   ]
  },
  {
   "cell_type": "code",
   "execution_count": null,
   "metadata": {},
   "outputs": [],
   "source": [
    "def random_centroids(X, K):\n",
    "    m = X.shape[0]\n",
    "    lst_pos_K = []\n",
    "    lst_K = []\n",
    "    while len(lst_pos_K) < K:\n",
    "        i = random.randint(0, m-1)\n",
    "        if i not in lst_pos_K:\n",
    "            lst_pos_K.append(i)\n",
    "            lst_K.append(X[i])\n",
    "    return lst_K\n",
    "lst_K = random_centroids(X, K)\n",
    "lst_K"
   ]
  },
  {
   "cell_type": "code",
   "execution_count": null,
   "metadata": {},
   "outputs": [],
   "source": [
    "def cluster_assignment(X, lst_K):\n",
    "    lst = []\n",
    "    m = X.shape[0]\n",
    "    for i in range(m):\n",
    "        temp = 0\n",
    "        min = np.linalg.norm(X[i] - lst_K[0])\n",
    "        for j, k in enumerate(lst_K):\n",
    "            if np.linalg.norm(X[i] - k) < min:\n",
    "                temp = j\n",
    "        lst.append(temp)\n",
    "    return lst\n",
    "lst = cluster_assignment(X, lst_K)"
   ]
  },
  {
   "cell_type": "code",
   "execution_count": null,
   "metadata": {},
   "outputs": [],
   "source": [
    "def move_centroid(X, lst, lst_K):\n",
    "    lst1 = []\n",
    "    for i, k in enumerate(lst_K):\n",
    "        mu_k = np.zeros((X.shape[1]))\n",
    "        count = 0\n",
    "        for j, centroid in enumerate(lst):\n",
    "            if centroid == i:\n",
    "                mu_k += X[j]\n",
    "                count += 1\n",
    "        if count == 0:\n",
    "            average = k\n",
    "        else:\n",
    "            average = mu_k / count\n",
    "        lst1.append(average)\n",
    "    return lst1\n",
    "move_centroid(X, lst, lst_K)"
   ]
  },
  {
   "cell_type": "code",
   "execution_count": null,
   "metadata": {},
   "outputs": [],
   "source": [
    "def compute_cost(X, lst, lst_K):\n",
    "    cost = 0\n",
    "    for i in range(X.shape[0]):\n",
    "        for j, k in enumerate(lst_K):\n",
    "            if lst[i] == j:\n",
    "                cost += np.linalg.norm(X[i] - k)\n",
    "    return cost/X.shape[0]\n",
    "compute_cost(X, lst, lst_K)"
   ]
  },
  {
   "cell_type": "code",
   "execution_count": 89,
   "metadata": {},
   "outputs": [],
   "source": [
    "def K_means(X, K, repeat_find_centroid = 1000, max_iter = 10):\n",
    "    min_cost = 1000\n",
    "    lst_select = []\n",
    "    for i in range(max_iter):\n",
    "        lst_K = random_centroids(X, K)\n",
    "        for j in range(repeat_find_centroid):\n",
    "            lst = cluster_assignment(X, lst_K)\n",
    "            lst_K = move_centroid(X, lst, lst_K)\n",
    "        if min_cost > compute_cost(X, lst, lst_K): \n",
    "            min_cost = compute_cost(X, lst, lst_K)\n",
    "            lst_select = lst.copy()\n",
    "    return min_cost\n"
   ]
  },
  {
   "cell_type": "code",
   "execution_count": 91,
   "metadata": {},
   "outputs": [],
   "source": [
    "dev_x = [K_means(X, K, repeat_find_centroid = 100, max_iter = 50) for K in range(1, 8)]\n",
    "dev_y = [K for K in range(1, 8)]\n",
    "%matplotlib inline"
   ]
  },
  {
   "cell_type": "code",
   "execution_count": 92,
   "metadata": {},
   "outputs": [
    {
     "data": {
      "image/png": "[encoded data removed]",
      "text/plain": [
       "<Figure size 432x288 with 1 Axes>"
      ]
     },
     "metadata": {
      "needs_background": "light"
     },
     "output_type": "display_data"
    }
   ],
   "source": [
    "plt.plot(dev_x, dev_y)    #print to select K (elbow function)\n",
    "plt.show()"
   ]
  },
  {
   "cell_type": "code",
   "execution_count": null,
   "metadata": {},
   "outputs": [],
   "source": []
  },
  {
   "cell_type": "code",
   "execution_count": null,
   "metadata": {},
   "outputs": [],
   "source": []
  }
 ],
 "metadata": {
  "kernelspec": {
   "display_name": "Python 3",
   "language": "python",
   "name": "python3"
  },
  "language_info": {
   "codemirror_mode": {
    "name": "ipython",
    "version": 3
   },
   "file_extension": ".py",
   "mimetype": "text/x-python",
   "name": "python",
   "nbconvert_exporter": "python",
   "pygments_lexer": "ipython3",
   "version": "3.8.5"
  }
 },
 "nbformat": 4,
 "nbformat_minor": 4
}
